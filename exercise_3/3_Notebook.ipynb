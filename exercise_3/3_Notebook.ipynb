{
 "cells": [
  {
   "cell_type": "markdown",
   "metadata": {},
   "source": [
    "# Welcome to our third exercise! \n",
    "\n",
    "Today we will implement stochastic gradient descent, together with a dataloader class."
   ]
  },
  {
   "cell_type": "markdown",
   "metadata": {},
   "source": [
    "<h3>Task: Check Code</h3> \n",
    "Check the code inside the <code>exercise_3/code/boiler_plate/dataset.py</code> file.\n"
   ]
  },
  {
   "cell_type": "markdown",
   "metadata": {},
   "source": [
    "The `Dataset` base class is responsible for downloading and extracting the dataset. \n",
    "\n",
    "It also requires us to define four methods:\n",
    "\n",
    "- `__getitem__(self, index)`: This method should return the data and its label for a given index. This method will be mostly used in other methods.\n",
    "  \n",
    "- `__len__(self)`: This method should return the total number of items in the dataset.\n",
    "\n",
    "\n",
    "If you're not familiar with iterators, you can learn more about them in this [article](https://www.programiz.com/python-programming/iterator).\n",
    "\n",
    "- `__iter__(self)` and `__next__(self)`: These methods will be used to loop through the dataset.\n"
   ]
  },
  {
   "cell_type": "markdown",
   "metadata": {},
   "source": [
    "<h3>Task: Check Code</h3> \n",
    "Check the code inside the <code>exercise_3/code/mnist_dataset.py</code> file.\n"
   ]
  },
  {
   "cell_type": "markdown",
   "metadata": {},
   "source": [
    "\"The MNIST dataset is a large database of handwritten digits that is commonly used for training and testing in the field of machine learning. It contains 60,000 training images and 10,000 testing images, each of which is a 28x28 pixel grayscale image of a handwritten digit between 0 and 9. The dataset also includes labels for each image, indicating the digit it represents.\"\n",
    "\n",
    "The <b>MNISTDataset</b> loads this dataset.\n",
    "\n",
    "The most critical parameter is the <b>load_to_memory</b> parameter. If load_to_memory is true, the whole dataset will be stored in two numpy arrays (images, labels), meaning the program will load it into <b>RAM</b>.\n",
    "\n",
    "<b>If the dataset is large, this will not work.</b>\n",
    "\n",
    "If <b>load_to_memory</b> is false, you can see in the getitem method that we will just load a single image from the folder into RAM, and the rest will stay on the disk.\n",
    "\n",
    "The good news is that we only have to adapt the getitem and len methods. "
   ]
  },
  {
   "cell_type": "code",
   "execution_count": 1,
   "metadata": {},
   "outputs": [
    {
     "name": "stdout",
     "output_type": "stream",
     "text": [
      "Size with memory:    49921368 bytes\n",
      "Size without memory:  2400928 bytes\n",
      "dataset_with_memory deleted\n"
     ]
    }
   ],
   "source": [
    "from code.mnist_dataset import MNISTDataset\n",
    "import gc\n",
    "from pympler import asizeof\n",
    "\n",
    "root = 'data'\n",
    "dataset_with_memory = MNISTDataset(root, load_to_memory=True,download=False)\n",
    "dataset_without_memory = MNISTDataset(root, load_to_memory=False)\n",
    "\n",
    "size_with_memory = asizeof.asizeof(dataset_with_memory)\n",
    "size_without_memory = asizeof.asizeof(dataset_without_memory)\n",
    "\n",
    "print(f\"Size with memory:    {size_with_memory} bytes\")\n",
    "print(f\"Size without memory:  {size_without_memory} bytes\")\n",
    "\n",
    "# Delete the loaded dataset\n",
    "del dataset_with_memory\n",
    "gc.collect()\n",
    "\n",
    "print(\"dataset_with_memory deleted\")\n",
    "\n",
    "# Rename the dataset, so we don't have to type to much.\n",
    "dataset = dataset_without_memory"
   ]
  },
  {
   "cell_type": "code",
   "execution_count": 2,
   "metadata": {},
   "outputs": [
    {
     "name": "stdout",
     "output_type": "stream",
     "text": [
      "Label:0\n",
      "Shape: (28, 28)\n"
     ]
    },
    {
     "data": {
      "text/plain": [
       "array([[  0,   0,   0,   0,   0,   0,   0,   0,   0,   0,   0,   0,   0,\n",
       "          0,   0,   0,   0,   0,   0,   0,   0,   0,   0,   0,   0,   0,\n",
       "          0,   0],\n",
       "       [  0,   0,   0,   0,   0,   0,   0,   0,   0,   0,   0,   0,   0,\n",
       "          0,   0,   0,   0,   0,   0,   0,   0,   0,   0,   0,   0,   0,\n",
       "          0,   0],\n",
       "       [  0,   0,   0,   0,   0,   0,   0,   0,   0,   0,   0,   0,   0,\n",
       "          0,   0,   0,   0,   0,   0,   0,   0,   0,   0,   0,   0,   0,\n",
       "          0,   0],\n",
       "       [  0,   0,   0,   0,   0,   0,   0,   0,   0,   0,   0,   0,   0,\n",
       "          0,   0,   0,   0,   0,   0,   0,   0,   0,   0,   0,   0,   0,\n",
       "          0,   0],\n",
       "       [  0,   0,   0,   0,   0,   0,   0,   0,   0,   0,   0,  86,  85,\n",
       "        255, 253, 198,  85,   0,   0,   0,   0,   0,   0,   0,   0,   0,\n",
       "          0,   0],\n",
       "       [  0,   0,   0,   0,   0,   0,   0,   0,   0,   0, 114, 253, 251,\n",
       "        253, 251, 253, 251,   0,   0,   0,   0,   0,   0,   0,   0,   0,\n",
       "          0,   0],\n",
       "       [  0,   0,   0,   0,   0,   0,   0,   0,   0, 255, 253, 255, 253,\n",
       "        254, 253, 254, 253, 254, 139,   0,   0,   0,   0,   0,   0,   0,\n",
       "          0,   0],\n",
       "       [  0,   0,   0,   0,   0,   0,   0,   0, 114, 253, 251, 253, 251,\n",
       "        253, 251, 253, 251, 253, 251,   0,   0,   0,   0,   0,   0,   0,\n",
       "          0,   0],\n",
       "       [  0,   0,   0,   0,   0,   0,   0,   0, 169, 255, 253, 255, 253,\n",
       "        254, 253, 254, 253, 254, 253, 198,  28,   0,   0,   0,   0,   0,\n",
       "          0,   0],\n",
       "       [  0,   0,   0,   0,   0,   0,   0,   0, 168, 253, 251, 253, 251,\n",
       "        253, 251, 196, 196, 253, 251, 253,  83,   0,   0,   0,   0,   0,\n",
       "          0,   0],\n",
       "       [  0,   0,   0,   0,   0,   0,   0,   0, 169, 255, 253, 255, 253,\n",
       "        254, 253,   0,   0, 254, 253, 254, 253,   0,   0,   0,   0,   0,\n",
       "          0,   0],\n",
       "       [  0,   0,   0,   0,   0,   0,   0,   0, 168, 253, 251, 253, 251,\n",
       "        253, 138,   0,   0, 253, 251, 253, 251,   0,   0,   0,   0,   0,\n",
       "          0,   0],\n",
       "       [  0,   0,   0,   0,   0,   0,   0,   0, 169, 254, 253, 254, 253,\n",
       "        226,  56,   0,   0,  57, 225, 254, 253, 198,  28,   0,   0,   0,\n",
       "          0,   0],\n",
       "       [  0,   0,   0,   0,   0,   0,   0,   0, 168, 253, 251, 253, 251,\n",
       "         56,   0,   0,   0,   0, 168, 253, 251, 253,  83,   0,   0,   0,\n",
       "          0,   0],\n",
       "       [  0,   0,   0,   0,   0,   0,   0,  85, 253, 254, 253, 254, 253,\n",
       "          0,   0,   0,   0,   0, 169, 254, 253, 254,  84,   0,   0,   0,\n",
       "          0,   0],\n",
       "       [  0,   0,   0,   0,   0,   0,   0,  85, 251, 253, 251, 253, 251,\n",
       "          0,   0,   0,   0,   0, 168, 253, 251, 253,  83,   0,   0,   0,\n",
       "          0,   0],\n",
       "       [  0,   0,   0,   0,   0,   0,   0, 254, 253, 254, 253, 254,  84,\n",
       "          0,   0,   0,   0,   0,  57, 254, 253, 254,  84,   0,   0,   0,\n",
       "          0,   0],\n",
       "       [  0,   0,   0,   0,   0,   0,   0, 253, 251, 253, 251, 253,  83,\n",
       "          0,   0,   0,   0, 169, 224, 253, 251, 253,  83,   0,   0,   0,\n",
       "          0,   0],\n",
       "       [  0,   0,   0,   0,   0,   0,   0, 254, 253, 254, 253, 254,  84,\n",
       "          0,  57, 254, 253, 254, 253, 254, 253, 254,  84,   0,   0,   0,\n",
       "          0,   0],\n",
       "       [  0,   0,   0,   0,   0,   0,   0, 253, 251, 253, 251, 253, 196,\n",
       "        169, 224, 253, 251, 253, 251, 253, 251, 196,  28,   0,   0,   0,\n",
       "          0,   0],\n",
       "       [  0,   0,   0,   0,   0,   0,   0, 254, 253, 254, 253, 254, 253,\n",
       "        254, 253, 254, 253, 254, 253, 254, 253,   0,   0,   0,   0,   0,\n",
       "          0,   0],\n",
       "       [  0,   0,   0,   0,   0,   0,   0, 139, 251, 253, 251, 253, 251,\n",
       "        253, 251, 253, 251, 253, 251, 253, 138,   0,   0,   0,   0,   0,\n",
       "          0,   0],\n",
       "       [  0,   0,   0,   0,   0,   0,   0,   0, 114, 254, 253, 254, 253,\n",
       "        254, 253, 254, 253, 254, 196,   0,   0,   0,   0,   0,   0,   0,\n",
       "          0,   0],\n",
       "       [  0,   0,   0,   0,   0,   0,   0,   0,   0,  84, 196, 253, 251,\n",
       "        253, 251, 253, 251,  84,  28,   0,   0,   0,   0,   0,   0,   0,\n",
       "          0,   0],\n",
       "       [  0,   0,   0,   0,   0,   0,   0,   0,   0,   0,   0,   0,   0,\n",
       "          0,   0,   0,   0,   0,   0,   0,   0,   0,   0,   0,   0,   0,\n",
       "          0,   0],\n",
       "       [  0,   0,   0,   0,   0,   0,   0,   0,   0,   0,   0,   0,   0,\n",
       "          0,   0,   0,   0,   0,   0,   0,   0,   0,   0,   0,   0,   0,\n",
       "          0,   0],\n",
       "       [  0,   0,   0,   0,   0,   0,   0,   0,   0,   0,   0,   0,   0,\n",
       "          0,   0,   0,   0,   0,   0,   0,   0,   0,   0,   0,   0,   0,\n",
       "          0,   0],\n",
       "       [  0,   0,   0,   0,   0,   0,   0,   0,   0,   0,   0,   0,   0,\n",
       "          0,   0,   0,   0,   0,   0,   0,   0,   0,   0,   0,   0,   0,\n",
       "          0,   0]], dtype=uint8)"
      ]
     },
     "execution_count": 2,
     "metadata": {},
     "output_type": "execute_result"
    }
   ],
   "source": [
    "image, label = dataset[1]\n",
    "print(f\"Label:{label}\")\n",
    "print(f\"Shape: {image.shape}\")\n",
    "image"
   ]
  },
  {
   "cell_type": "code",
   "execution_count": 3,
   "metadata": {},
   "outputs": [
    {
     "data": {
      "image/png": "[encoded data removed]",
      "text/plain": [
       "<Figure size 640x480 with 1 Axes>"
      ]
     },
     "metadata": {},
     "output_type": "display_data"
    },
    {
     "data": {
      "image/png": "[encoded data removed]",
      "text/plain": [
       "<Figure size 640x480 with 1 Axes>"
      ]
     },
     "metadata": {},
     "output_type": "display_data"
    }
   ],
   "source": [
    "dataset.show_image(1)\n",
    "dataset.show_image(2)"
   ]
  },
  {
   "cell_type": "code",
   "execution_count": 4,
   "metadata": {},
   "outputs": [
    {
     "data": {
      "image/png": "[encoded data removed]",
      "text/plain": [
       "<Figure size 640x480 with 1 Axes>"
      ]
     },
     "metadata": {},
     "output_type": "display_data"
    },
    {
     "data": {
      "image/png": "[encoded data removed]",
      "text/plain": [
       "<Figure size 640x480 with 1 Axes>"
      ]
     },
     "metadata": {},
     "output_type": "display_data"
    }
   ],
   "source": [
    "dataset.shuffle()\n",
    "dataset.show_image(1)\n",
    "dataset.show_image(2)"
   ]
  },
  {
   "cell_type": "code",
   "execution_count": 5,
   "metadata": {},
   "outputs": [
    {
     "name": "stdout",
     "output_type": "stream",
     "text": [
      "Iterated over 10000 images out of 60000!\n",
      "Iterated over 20000 images out of 60000!\n",
      "Iterated over 30000 images out of 60000!\n",
      "Iterated over 40000 images out of 60000!\n",
      "Iterated over 50000 images out of 60000!\n",
      "Iterated over 60000 images out of 60000!\n",
      "60000\n"
     ]
    }
   ],
   "source": [
    "image_count = 0\n",
    "for _image,_label in dataset:\n",
    "    image_count+=1\n",
    "    if image_count % 10000 == 0:\n",
    "        print(f\"Iterated over {image_count} images out of {len(dataset)}!\")\n",
    "print(image_count)"
   ]
  },
  {
   "cell_type": "markdown",
   "metadata": {},
   "source": [
    "### What is a Batch?\n",
    "\n",
    "In deep learning, a batch is a subset of the dataset used to train a neural network. For example, if your dataset has 1000 samples (images, text, etc.), and you choose a batch size of 10, each batch will contain 10 samples. In this case, it would take 100 batches (1000 samples / 10 samples per batch) to complete one epoch, which is one pass through the entire dataset.\n",
    "\n",
    "### Why Do We Use Batches?\n",
    "\n",
    "1. **Computational Efficiency:** Loading the full dataset would take too much RAM.\n",
    "\n",
    "2. **Enables the use of Stochastic Gradient Descent (SGD):**"
   ]
  },
  {
   "cell_type": "markdown",
   "metadata": {},
   "source": [
    "<h3>Task: Implement.</h3> \n",
    "Go into <code>exercise_3/code/mnist_batch_dataset.py</code> and implement the __getitem__ and __len__ methods of the MNISTDatasetBatch class.\n"
   ]
  },
  {
   "cell_type": "code",
   "execution_count": 1,
   "metadata": {},
   "outputs": [
    {
     "ename": "TypeError",
     "evalue": "MNISTDataset.__init__() missing 1 required positional argument: 'root'",
     "output_type": "error",
     "traceback": [
      "\u001b[0;31m---------------------------------------------------------------------------\u001b[0m",
      "\u001b[0;31mTypeError\u001b[0m                                 Traceback (most recent call last)",
      "Cell \u001b[0;32mIn[1], line 4\u001b[0m\n\u001b[1;32m      1\u001b[0m \u001b[38;5;28;01mfrom\u001b[39;00m \u001b[38;5;21;01mtests\u001b[39;00m\u001b[38;5;21;01m.\u001b[39;00m\u001b[38;5;21;01mtest\u001b[39;00m \u001b[38;5;28;01mimport\u001b[39;00m MNISTDatasetBatchTest_GetItem,MNISTDatasetBatchTest_Len,test_case_runner\n\u001b[1;32m      3\u001b[0m test_classes \u001b[38;5;241m=\u001b[39m [MNISTDatasetBatchTest_GetItem,MNISTDatasetBatchTest_Len]\n\u001b[0;32m----> 4\u001b[0m \u001b[43mtest_case_runner\u001b[49m\u001b[43m(\u001b[49m\u001b[43mtest_classes\u001b[49m\u001b[43m)\u001b[49m\n",
      "File \u001b[0;32m~/Desktop/zero2transformers/exercise_3/tests/test.py:16\u001b[0m, in \u001b[0;36mtest_case_runner\u001b[0;34m(test_classes)\u001b[0m\n\u001b[1;32m     14\u001b[0m all_tests_passed \u001b[38;5;241m=\u001b[39m \u001b[38;5;28;01mTrue\u001b[39;00m\n\u001b[1;32m     15\u001b[0m \u001b[38;5;28;01mfor\u001b[39;00m test_class \u001b[38;5;129;01min\u001b[39;00m test_classes:\n\u001b[0;32m---> 16\u001b[0m     all_tests_passed \u001b[38;5;241m=\u001b[39m all_tests_passed \u001b[38;5;129;01mand\u001b[39;00m \u001b[43mtest_class\u001b[49m\u001b[43m(\u001b[49m\u001b[43m)\u001b[49m\n\u001b[1;32m     18\u001b[0m \u001b[38;5;28;01mif\u001b[39;00m all_tests_passed:\n\u001b[1;32m     19\u001b[0m     display_image()\n",
      "File \u001b[0;32m~/Desktop/zero2transformers/exercise_3/tests/test.py:79\u001b[0m, in \u001b[0;36mMNISTDatasetBatchTest_Len.__init__\u001b[0;34m(self)\u001b[0m\n\u001b[1;32m     77\u001b[0m \u001b[38;5;28;01mdef\u001b[39;00m \u001b[38;5;21m__init__\u001b[39m(\u001b[38;5;28mself\u001b[39m):\n\u001b[1;32m     78\u001b[0m     \u001b[38;5;28mself\u001b[39m\u001b[38;5;241m.\u001b[39mb_1 \u001b[38;5;241m=\u001b[39m \u001b[38;5;241m10\u001b[39m\n\u001b[0;32m---> 79\u001b[0m     \u001b[38;5;28mself\u001b[39m\u001b[38;5;241m.\u001b[39md_1 \u001b[38;5;241m=\u001b[39m \u001b[43mMNISTDatasetBatch\u001b[49m\u001b[43m(\u001b[49m\u001b[43mbatch_size\u001b[49m\u001b[38;5;241;43m=\u001b[39;49m\u001b[38;5;28;43mself\u001b[39;49m\u001b[38;5;241;43m.\u001b[39;49m\u001b[43mb_1\u001b[49m\u001b[43m)\u001b[49m\n\u001b[1;32m     81\u001b[0m     \u001b[38;5;28mself\u001b[39m\u001b[38;5;241m.\u001b[39mb_2 \u001b[38;5;241m=\u001b[39m \u001b[38;5;241m7\u001b[39m\n\u001b[1;32m     82\u001b[0m     \u001b[38;5;28mself\u001b[39m\u001b[38;5;241m.\u001b[39md_2 \u001b[38;5;241m=\u001b[39m MNISTDatasetBatch(batch_size\u001b[38;5;241m=\u001b[39m\u001b[38;5;28mself\u001b[39m\u001b[38;5;241m.\u001b[39mb_2)\n",
      "File \u001b[0;32m~/Desktop/zero2transformers/exercise_3/code/mnist_batch_dataset.py:7\u001b[0m, in \u001b[0;36mMNISTDatasetBatch.__init__\u001b[0;34m(self, batch_size, *args, **kwargs)\u001b[0m\n\u001b[1;32m      6\u001b[0m \u001b[38;5;28;01mdef\u001b[39;00m \u001b[38;5;21m__init__\u001b[39m(\u001b[38;5;28mself\u001b[39m, batch_size, \u001b[38;5;241m*\u001b[39margs, \u001b[38;5;241m*\u001b[39m\u001b[38;5;241m*\u001b[39mkwargs):\n\u001b[0;32m----> 7\u001b[0m     \u001b[38;5;28;43msuper\u001b[39;49m\u001b[43m(\u001b[49m\u001b[43m)\u001b[49m\u001b[38;5;241;43m.\u001b[39;49m\u001b[38;5;21;43m__init__\u001b[39;49m\u001b[43m(\u001b[49m\u001b[38;5;241;43m*\u001b[39;49m\u001b[43margs\u001b[49m\u001b[43m,\u001b[49m\u001b[43m \u001b[49m\u001b[38;5;241;43m*\u001b[39;49m\u001b[38;5;241;43m*\u001b[39;49m\u001b[43mkwargs\u001b[49m\u001b[43m)\u001b[49m\n\u001b[1;32m      8\u001b[0m     \u001b[38;5;28mself\u001b[39m\u001b[38;5;241m.\u001b[39mbatch_size \u001b[38;5;241m=\u001b[39m batch_size\n",
      "\u001b[0;31mTypeError\u001b[0m: MNISTDataset.__init__() missing 1 required positional argument: 'root'"
     ]
    }
   ],
   "source": [
    "from tests.test import MNISTDatasetBatchTest_GetItem,MNISTDatasetBatchTest_Len,test_case_runner\n",
    "\n",
    "test_classes = [MNISTDatasetBatchTest_GetItem,MNISTDatasetBatchTest_Len]\n",
    "test_case_runner(test_classes)"
   ]
  },
  {
   "cell_type": "code",
   "execution_count": null,
   "metadata": {},
   "outputs": [],
   "source": [
    "from code.mnist_batch_dataset import MNISTDatasetBatch\n",
    "root = \"data\"\n",
    "batch_dataset = MNISTDatasetBatch(batch_size=4, root=root, load_to_memory=False,download=False)"
   ]
  },
  {
   "cell_type": "code",
   "execution_count": null,
   "metadata": {},
   "outputs": [],
   "source": [
    "import matplotlib.pyplot as plt\n",
    "batch1_images,batch1_labels = batch_dataset[0]\n",
    "\n",
    "print(f\"Shape of the images: {batch1_images.shape}\")\n",
    "print(f\"Shape of the labels: {batch1_labels.shape}\")\n",
    "print(batch1_labels)\n",
    "\n",
    "for image,label in zip(batch1_images, batch1_labels):\n",
    "    plt.imshow(image, cmap=\"gray\")\n",
    "    plt.title(f\"Label: {label}\")\n",
    "    plt.show()\n"
   ]
  },
  {
   "cell_type": "code",
   "execution_count": 13,
   "metadata": {},
   "outputs": [
    {
     "name": "stdout",
     "output_type": "stream",
     "text": [
      "Iterated over 1000 batches out of 15000!\n",
      "Iterated over 2000 batches out of 15000!\n",
      "Iterated over 3000 batches out of 15000!\n",
      "Iterated over 4000 batches out of 15000!\n",
      "Iterated over 5000 batches out of 15000!\n",
      "Iterated over 6000 batches out of 15000!\n",
      "Iterated over 7000 batches out of 15000!\n",
      "Iterated over 8000 batches out of 15000!\n",
      "Iterated over 9000 batches out of 15000!\n",
      "Iterated over 10000 batches out of 15000!\n",
      "Iterated over 11000 batches out of 15000!\n",
      "Iterated over 12000 batches out of 15000!\n",
      "Iterated over 13000 batches out of 15000!\n",
      "Iterated over 14000 batches out of 15000!\n",
      "Iterated over 15000 batches out of 15000!\n"
     ]
    }
   ],
   "source": [
    "# Implementing Stochastic Gradient Descent (SGD)\n",
    "for images, labels in batch_dataset:\n",
    "    # Initialize gradients\n",
    "    gradients = None\n",
    "    # Compute gradients for each instance in the batch\n",
    "    for image, label in zip(images, labels):\n",
    "        # Incrementally update the gradients with the gradient of the current instance\n",
    "    # Average the gradients over the batch\n",
    "    \n",
    "    # Perform the update step with the averaged gradients"
   ]
  },
  {
   "cell_type": "code",
   "execution_count": 11,
   "metadata": {},
   "outputs": [],
   "source": []
  },
  {
   "cell_type": "code",
   "execution_count": null,
   "metadata": {},
   "outputs": [],
   "source": []
  }
 ],
 "metadata": {
  "kernelspec": {
   "display_name": "Python 3 (ipykernel)",
   "language": "python",
   "name": "python3"
  },
  "language_info": {
   "codemirror_mode": {
    "name": "ipython",
    "version": 3
   },
   "file_extension": ".py",
   "mimetype": "text/x-python",
   "name": "python",
   "nbconvert_exporter": "python",
   "pygments_lexer": "ipython3",
   "version": "3.10.12"
  },
  "vscode": {
   "interpreter": {
    "hash": "b34beba0ae0684a76e70d39366d469ebd21c1bb0cbadd5616d5f27a1c315b264"
   }
  }
 },
 "nbformat": 4,
 "nbformat_minor": 2
}
